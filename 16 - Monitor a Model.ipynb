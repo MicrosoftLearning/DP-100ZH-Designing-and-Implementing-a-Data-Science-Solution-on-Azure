{
  "cells": [
    {
      "cell_type": "markdown",
      "metadata": {},
      "source": [
        "# 监视模型\r\n",
        "\r\n",
        "将模型作为服务部署到生产中后，你将需要对其进行监视以跟踪使用情况并浏览其处理的请求。你可以使用 Azure Application Insights 监视模型服务终结点的活动。"
      ]
    },
    {
      "cell_type": "markdown",
      "metadata": {},
      "source": [
        "## 连接到工作区\r\n",
        "\r\n",
        "首先，请连接到你的工作区。\r\n",
        "\r\n",
        "> **备注**：如果尚未与 Azure 订阅建立经过身份验证的会话，则系统将提示你通过执行以下操作进行身份验证：单击链接，输入验证码，然后登录到 Azure。"
      ]
    },
    {
      "cell_type": "code",
      "execution_count": null,
      "metadata": {},
      "outputs": [],
      "source": [
        "from azureml.core import Workspace\n",
        "\n",
        "# 从保存的配置文件加载工作区\r\n",
        "ws = Workspace.from_config()\n",
        "print('Ready to work with', ws.name)"
      ]
    },
    {
      "cell_type": "markdown",
      "metadata": {},
      "source": [
        "## 准备要部署的模型\r\n",
        "\r\n",
        "现在我们需要一个要部署的模型。运行以下代码以执行下列操作：\r\n",
        "\r\n",
        "1. 创建并注册数据集。\r\n",
        "2. 使用数据集训练模型。\r\n",
        "3. 注册模型。"
      ]
    },
    {
      "cell_type": "code",
      "execution_count": null,
      "metadata": {},
      "outputs": [],
      "source": [
        "from azureml.core import Experiment\n",
        "from azureml.core import Model\n",
        "import pandas as pd\n",
        "import numpy as np\n",
        "import joblib\n",
        "from sklearn.model_selection import train_test_split\n",
        "from sklearn.tree import DecisionTreeClassifier\n",
        "from sklearn.metrics import roc_auc_score, roc_curve\n",
        "from azureml.core import Dataset\n",
        "\n",
        "# 将数据文件上传到默认数据存储\r\n",
        "default_ds = ws.get_default_datastore()\n",
        "default_ds.upload_files(files=['./data/diabetes.csv', './data/diabetes2.csv'],\n",
        "                       target_path='diabetes-data/',\n",
        "                       overwrite=True,\n",
        "                       show_progress=True)\n",
        "\n",
        "#从数据存储上的路径创建表格数据集\r\n",
        "print('Creating dataset...')\n",
        "data_set = Dataset.Tabular.from_delimited_files(path=(default_ds, 'diabetes-data/*.csv'))\n",
        "\n",
        "# 注册表格数据集\r\n",
        "print('Registering dataset...')\n",
        "try:\n",
        "    data_set = data_set.register(workspace=ws, \n",
        "                               name='diabetes dataset',\n",
        "                               description='diabetes data',\n",
        "                               tags = {'format':'CSV'},\n",
        "                               create_new_version=True)\n",
        "except Exception as ex:\n",
        "    print(ex)\n",
        "\n",
        "# 在工作区中创建 Azure ML 试验\r\n",
        "experiment = Experiment(workspace=ws, name='mslearn-train-diabetes')\n",
        "run = experiment.start_logging()\n",
        "print(\"Starting experiment:\", experiment.name)\n",
        "\n",
        "# 加载糖尿病数据集\r\n",
        "print(\"Loading Data...\")\n",
        "diabetes = data_set.to_pandas_dataframe()\n",
        "\n",
        "# 分隔特征和标签\r\n",
        "X, y = diabetes[['Pregnancies','PlasmaGlucose','DiastolicBloodPressure','TricepsThickness','SerumInsulin','BMI','DiabetesPedigree','Age']].values, diabetes['Diabetic'].values\n",
        "\n",
        "# 将数据拆分为训练集和测试集\r\n",
        "X_train, X_test, y_train, y_test = train_test_split(X, y, test_size=0.30, random_state=0)\n",
        "\n",
        "# 训练决策树模型\r\n",
        "print('Training a decision tree model')\n",
        "model = DecisionTreeClassifier().fit(X_train, y_train)\n",
        "\n",
        "# 计算精度\r\n",
        "y_hat = model.predict(X_test)\n",
        "acc = np.average(y_hat == y_test)\n",
        "print('Accuracy:', acc)\n",
        "run.log('Accuracy', np.float(acc))\n",
        "\n",
        "# 计算 AUC\r\n",
        "y_scores = model.predict_proba(X_test)\n",
        "auc = roc_auc_score(y_test,y_scores[:,1])\n",
        "print('AUC: ' + str(auc))\n",
        "run.log('AUC', np.float(auc))\n",
        "\n",
        "# 保存训练的模型\r\n",
        "model_file = 'diabetes_model.pkl'\n",
        "joblib.dump(value=model, filename=model_file)\n",
        "run.upload_file(name = 'outputs/' + model_file, path_or_stream = './' + model_file)\n",
        "\n",
        "# 完成运行\r\n",
        "run.complete()\n",
        "\n",
        "# 注册模型\r\n",
        "print('Registering model...')\n",
        "run.register_model(model_path='outputs/diabetes_model.pkl', model_name='diabetes_model',\n",
        "                   tags={'Training context':'Inline Training'},\n",
        "                   properties={'AUC': run.get_metrics()['AUC'], 'Accuracy': run.get_metrics()['Accuracy']})\n",
        "\n",
        "# 获取已注册的模型\r\n",
        "model = ws.models['diabetes_model']\n",
        "\n",
        "print('Model trained and registered.')"
      ]
    },
    {
      "cell_type": "markdown",
      "metadata": {},
      "source": [
        "## 将模型部署为 Web 服务\r\n",
        "\r\n",
        "现在可以将已注册的模型部署为 Web 服务。\r\n",
        "\r\n",
        "首先，为部署配置文件创建一个文件夹"
      ]
    },
    {
      "cell_type": "code",
      "execution_count": null,
      "metadata": {},
      "outputs": [],
      "source": [
        "import os\n",
        "\n",
        "folder_name = 'diabetes_service'\n",
        "\n",
        "# 为 Web 服务文件创建文件夹\r\n",
        "experiment_folder = './' + folder_name\n",
        "os.makedirs(experiment_folder, exist_ok=True)\n",
        "\n",
        "print(folder_name, 'folder created.')\n",
        "\n",
        "# 设置评分脚本和环境文件的路径\r\n",
        "script_file = os.path.join(experiment_folder,\"score_diabetes.py\")\n",
        "env_file = os.path.join(experiment_folder,\"diabetes_env.yml\")"
      ]
    },
    {
      "cell_type": "markdown",
      "metadata": {},
      "source": [
        "现在需要一个入口脚本，此服务将使用它对新数据进行评分。"
      ]
    },
    {
      "cell_type": "code",
      "execution_count": null,
      "metadata": {},
      "outputs": [],
      "source": [
        "%%writefile $script_file\n",
        "import json\n",
        "import joblib\n",
        "import numpy as np\n",
        "from azureml.core.model import Model\n",
        "\n",
        "# 加载服务时调用\r\n",
        "def init():\n",
        "    global model\n",
        "    # Get the path to the deployed model file and load it\n",
        "    model_path = Model.get_model_path('diabetes_model')\n",
        "    model = joblib.load(model_path)\n",
        "\n",
        "# 收到请求时调用\r\n",
        "def run(raw_data):\n",
        "    # Get the input data as a numpy array\n",
        "    data = json.loads(raw_data)['data']\n",
        "    np_data = np.array(data)\n",
        "    # Get a prediction from the model\n",
        "    predictions = model.predict(np_data)\n",
        "    \n",
        "    # print the data and predictions (so they'll be logged!)\n",
        "    log_text = 'Data:' + str(data) + ' - Predictions:' + str(predictions)\n",
        "    print(log_text)\n",
        "    \n",
        "    # Get the corresponding classname for each prediction (0 or 1)\n",
        "    classnames = ['not-diabetic', 'diabetic']\n",
        "    predicted_classes = []\n",
        "    for prediction in predictions:\n",
        "        predicted_classes.append(classnames[prediction])\n",
        "    # Return the predictions as JSON\n",
        "    return json.dumps(predicted_classes)"
      ]
    },
    {
      "cell_type": "markdown",
      "metadata": {},
      "source": [
        "还需要一个适用于服务环境的 Conda 配置文件。"
      ]
    },
    {
      "cell_type": "code",
      "execution_count": null,
      "metadata": {
        "scrolled": true
      },
      "outputs": [],
      "source": [
        "%%writefile $env_file\n",
        "name: inference_env\n",
        "dependencies:\n",
        "- python=3.6.2\n",
        "- scikit-learn\n",
        "- pip\n",
        "- pip:\n",
        "  - azureml-defaults\n"
      ]
    },
    {
      "cell_type": "markdown",
      "metadata": {},
      "source": [
        "现在可以部署此服务（在本例中为 Azure 容器实例 (ACI)）。\r\n",
        "\r\n",
        "> **备注**：这可能需要几分钟时间 - 等待状态显示为“**正常**”。"
      ]
    },
    {
      "cell_type": "code",
      "execution_count": null,
      "metadata": {},
      "outputs": [],
      "source": [
        "from azureml.core.webservice import AciWebservice, Webservice\n",
        "from azureml.core.model import Model\n",
        "from azureml.core.model import InferenceConfig\n",
        "\n",
        "# 配置评分环境\r\n",
        "inference_config = InferenceConfig(runtime= \"python\",\n",
        "                                   entry_script=script_file,\n",
        "                                   conda_file=env_file)\n",
        "\n",
        "service_name = \"diabetes-service-app-insights\"\n",
        "deployment_config = AciWebservice.deploy_configuration(cpu_cores = 1, memory_gb = 1)\n",
        "aci_service = Model.deploy(workspace=ws,\n",
        "                           name= service_name,\n",
        "                           models= [model],\n",
        "                           inference_config= inference_config,\n",
        "                           deployment_config=deployment_config)\n",
        "aci_service.wait_for_deployment(show_output = True)\n",
        "print(aci_service.state)"
      ]
    },
    {
      "cell_type": "markdown",
      "metadata": {},
      "source": [
        "## 启用 Application Insights\r\n",
        "\r\n",
        "接下来需要为此服务启用 Application Insights。"
      ]
    },
    {
      "cell_type": "code",
      "execution_count": null,
      "metadata": {},
      "outputs": [],
      "source": [
        "# 启用 AppInsights\r\n",
        "aci_service.update(enable_app_insights=True)\n",
        "print('AppInsights enabled!')"
      ]
    },
    {
      "cell_type": "markdown",
      "metadata": {},
      "source": [
        "## 使用 Web 服务\r\n",
        "\r\n",
        "部署此服务后，现在可以从客户端应用程序使用它。\r\n",
        "\r\n",
        "首先确定这些应用程序必须将其请求提交到的 URL。"
      ]
    },
    {
      "cell_type": "code",
      "execution_count": null,
      "metadata": {},
      "outputs": [],
      "source": [
        "endpoint = aci_service.scoring_uri\n",
        "print(endpoint)"
      ]
    },
    {
      "cell_type": "markdown",
      "metadata": {},
      "source": [
        "你已知道终结点 URI，应用程序现在可以发出 HTTP 请求、发送 JSON（或二进制）格式的患者数据以及接收预测的类。\r\n",
        "\r\n",
        "> **提示**：如果由于服务终结点尚未准备就绪而发生错误，请等待几秒钟，然后重试！"
      ]
    },
    {
      "cell_type": "code",
      "execution_count": null,
      "metadata": {
        "scrolled": true
      },
      "outputs": [],
      "source": [
        "import requests\n",
        "import json\n",
        "\n",
        "# 创建用于推理的新数据\r\n",
        "x_new = [[2,180,74,24,21,23.9091702,1.488172308,22],\n",
        "         [0,148,58,11,179,39.19207553,0.160829008,45]]\n",
        "\n",
        "# 将该数组转换为 JSON 文档中的可序列化列表\r\n",
        "input_json = json.dumps({\"data\": x_new})\n",
        "\n",
        "# 设置内容类型\r\n",
        "headers = { 'Content-Type':'application/json' }\n",
        "\n",
        "# 获取预测\r\n",
        "predictions = requests.post(endpoint, input_json, headers = headers)\n",
        "print(predictions.status_code)\n",
        "if predictions.status_code == 200:\n",
        "    predicted_classes = json.loads(predictions.json())\n",
        "    for i in range(len(x_new)):\n",
        "        print (\"Patient {}\".format(x_new[i]), predicted_classes[i] )"
      ]
    },
    {
      "cell_type": "markdown",
      "metadata": {},
      "source": [
        "现在可以查看为服务终结点记录的数据：\r\n",
        "\r\n",
        "1. 在 [Azure 门户](https://portal.azure.com)中，打开你的机器学习工作区。\r\n",
        "2. 在“**概述**”页面上，单击相关联的 **Application Insights** 资源的链接。\r\n",
        "3. 在 Application Insights 边栏选项卡上，单击“**日志**”。 \r\n",
        "\r\n",
        "    > **备注**：如果这是你第一次打开日志分析，可能需要点击“**开始**”以打开查询编辑器。如果显示说明如何编写查询的提示，请关闭它。\r\n",
        "\r\n",
        "4. 将以下查询粘贴到查询编辑器中，然后单击“**运行**”\r\n",
        "    ```\r\n",
        "    traces\r\n",
        "    |where  message == \"STDOUT\"\r\n",
        "      and customDimensions.[\"Service Name\"] == \"diabetes-service-app-insights\"\r\n",
        "    |project timestamp, customDimensions.Content\r\n",
        "    ```\r\n",
        "5. 查看结果。刚开始可能没有结果，因为 ACI Web 服务可能需要 5 分钟才能将遥测发送到 Application Insights。等待几分钟后重新运行查询，直到看到记录的数据和预测。\r\n",
        "6. 查看记录的数据后，关闭 Application Insights 查询页面。"
      ]
    },
    {
      "cell_type": "markdown",
      "metadata": {},
      "source": [
        "## 删除服务\r\n",
        "\r\n",
        "当不再需要服务时，应将其删除。\r\n",
        "\r\n",
        "> **备注**：如果正在使用服务，可能无法立即将其删除。"
      ]
    },
    {
      "cell_type": "code",
      "execution_count": null,
      "metadata": {},
      "outputs": [],
      "source": [
        "try:\n",
        "    aci_service.delete()\n",
        "    print('Service deleted.')\n",
        "except Exception as ex:\n",
        "    print(ex.message)"
      ]
    },
    {
      "cell_type": "markdown",
      "metadata": {},
      "source": [
        "有关使用 Application Insights 监视已部署的服务的详细信息，请参阅 [Azure 机器学习文档](https://docs.microsoft.com/azure/machine-learning/how-to-enable-app-insights)。"
      ]
    }
  ],
  "metadata": {
    "kernelspec": {
      "display_name": "Python 3.6 - AzureML",
      "language": "python",
      "name": "python3-azureml"
    },
    "language_info": {
      "codemirror_mode": {
        "name": "ipython",
        "version": 3
      },
      "file_extension": ".py",
      "mimetype": "text/x-python",
      "name": "python",
      "nbconvert_exporter": "python",
      "pygments_lexer": "ipython3",
      "version": "3.6.9"
    }
  },
  "nbformat": 4,
  "nbformat_minor": 2
}