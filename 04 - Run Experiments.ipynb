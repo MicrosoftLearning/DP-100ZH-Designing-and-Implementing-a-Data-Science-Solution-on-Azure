{
  "cells": [
    {
      "cell_type": "markdown",
      "metadata": {},
      "source": [
        "# 运行试验\r\n",
        "\r\n",
        "可以使用 Azure 机器学习 SDK 运行记录指标并生成输出的代码试验。这是 Azure 机器学习中大多数机器学习操作的核心。\r\n",
        "\r\n",
        "## 连接到工作区\r\n",
        "\r\n",
        "所有试验和相关资源都在 Azure 机器学习工作区中进行管理。大多数情况下，应该将工作区配置存储在 JSON 配置文件中。这会使重新连接变得更加容易，且无需记住 Azure 订阅 ID 等详细信息。可以从 Azure 门户的工作区中的边栏选项卡下载 JSON 配置文件，但如果在工作区中使用的是计算实例，则该配置文件已下载到根文件夹中。\r\n",
        "\r\n",
        "以下代码使用配置文件连接到工作区。\r\n",
        "\r\n",
        "> 备注****：如果尚未与 Azure 订阅建立经过身份验证的会话，则系统将提示你通过执行以下操作进行身份验证：单击链接，输入验证码，然后登录到 Azure。"
      ]
    },
    {
      "cell_type": "code",
      "execution_count": null,
      "metadata": {},
      "outputs": [],
      "source": [
        "import azureml.core\n",
        "from azureml.core import Workspace\n",
        "\n",
        "# 从保存的配置文件加载工作区\r\n",
        "ws = Workspace.from_config()\n",
        "print('Ready to use Azure ML {} to work with {}'.format(azureml.core.VERSION, ws.name))"
      ]
    },
    {
      "cell_type": "markdown",
      "metadata": {},
      "source": [
        "## 运行试验\r\n",
        "\r\n",
        "数据科学家需执行的一项最基本任务是创建并运行可处理和分析数据的试验。在本练习中，你将学习如何使用 Azure ML 试验运行 Python 代码并记录从数据中提取的值**。这种情况下，你将使用一个简单数据集，其中包含已进行糖尿病检测的患者的详细信息。你将运行试验以探索数据、提取统计信息、可视化效果和数据样本。你将使用的大多数代码是相当通用的 Python，就像你在任何数据探索过程中运行的那样。但需额外增加几行代码以使用 Azure ML 试验记录运行的详细信息**。"
      ]
    },
    {
      "cell_type": "code",
      "execution_count": null,
      "metadata": {
        "scrolled": false
      },
      "outputs": [],
      "source": [
        "from azureml.core import Experiment\n",
        "import pandas as pd\n",
        "import matplotlib.pyplot as plt\n",
        "%matplotlib inline \n",
        "\n",
        "# 在工作区中创建 Azure ML 试验\r\n",
        "experiment = Experiment(workspace=ws, name=\"mslearn-diabetes\")\n",
        "\n",
        "# 开始记录试验中的数据，以获得对试验运行的引用\r\n",
        "run = experiment.start_logging()\n",
        "print(\"Starting experiment:\", experiment.name)\n",
        "\n",
        "# 从本地文件加载数据\r\n",
        "data = pd.read_csv('data/diabetes.csv')\n",
        "\n",
        "# 计算行数并记录结果\r\n",
        "row_count = (len(data))\n",
        "run.log('observations', row_count)\n",
        "print('Analyzing {} rows of data'.format(row_count))\n",
        "\n",
        "# 绘制并记录糖尿病患者和非糖尿病患者的计数\r\n",
        "diabetic_counts = data['Diabetic'].value_counts()\n",
        "fig = plt.figure(figsize=(6,6))\n",
        "ax = fig.gca()    \n",
        "diabetic_counts.plot.bar(ax = ax) \n",
        "ax.set_title('Patients with Diabetes') \n",
        "ax.set_xlabel('Diagnosis') \n",
        "ax.set_ylabel('Patients')\n",
        "plt.show()\n",
        "run.log_image(name='label distribution', plot=fig)\n",
        "\n",
        "# 记录各自妊娠计数\r\n",
        "pregnancies = data.Pregnancies.unique()\n",
        "run.log_list('pregnancy categories', pregnancies)\n",
        "\n",
        "# 记录数值列的汇总统计信息\r\n",
        "med_columns = ['PlasmaGlucose', 'DiastolicBloodPressure', 'TricepsThickness', 'SerumInsulin', 'BMI']\n",
        "summary_stats = data[med_columns].describe().to_dict()\n",
        "for col in summary_stats:\n",
        "    keys = list(summary_stats[col].keys())\n",
        "    values = list(summary_stats[col].values())\n",
        "    for index in range(len(keys)):\n",
        "        run.log_row(col, stat=keys[index], value = values[index])\n",
        "        \n",
        "# 保存数据样本并将其上传到试验输出\r\n",
        "data.sample(100).to_csv('sample.csv', index=False, header=True)\n",
        "run.upload_file(name='outputs/sample.csv', path_or_stream='./sample.csv')\n",
        "\n",
        "# 完成运行\r\n",
        "run.complete()"
      ]
    },
    {
      "cell_type": "markdown",
      "metadata": {},
      "source": [
        "## 查看运行详细信息\r\n",
        "\r\n",
        "在 Jupyter Notebook 中，可以使用“RunDetails”小组件查看运行详细信息的可视化效果****。"
      ]
    },
    {
      "cell_type": "code",
      "execution_count": null,
      "metadata": {},
      "outputs": [],
      "source": [
        "from azureml.widgets import RunDetails\n",
        "\n",
        "RunDetails(run).show()"
      ]
    },
    {
      "cell_type": "markdown",
      "metadata": {},
      "source": [
        "### 在 Azure 机器学习工作室中查看更多详细信息\r\n",
        "\r\n",
        "请注意，“RunDetails”小组件包含一个链接，用于查看 Azure 机器学习工作室中的运行详细信息********。单击此链接，打开包含运行详细信息的新浏览器标签页（也可以直接打开 [Azure 机器学习工作室](https://ml.azure.com)，在“试验”页面中查找运行）****。在 Azure 机器学习工作室中查看运行时，请注意以下内容：\r\n",
        "\r\n",
        "-“详细信息”****选项卡包含试验运行的常规属性。\r\n",
        "-“指标”选项卡使你可以选择记录的指标并以表格或图表形式查看****。\r\n",
        "-“图像”选项卡使你可以选择和查看试验中记录的所有图像或绘图（本例中为“标签分布”绘图）******\r\n",
        "-“子运行”选项卡列出所有子运行（本试验中没有）****。\r\n",
        "-“输出 + 日志”****选项卡显示试验生成的输出或日志文件。\r\n",
        "-“快照”****选项卡包含运行试验代码的文件夹中的所有文件（本例中，所有文件与此笔记本位于同一文件夹）。\r\n",
        "-“说明”选项卡用于显示试验生成的模型说明（本例中没有）****。\r\n",
        "-“公平性”****选项卡用于可视化预测性能差异，以帮助你评估机器学习模型的公平性（本例中没有）。"
      ]
    },
    {
      "cell_type": "markdown",
      "metadata": {},
      "source": [
        "### 使用 SDK 检索试验详细信息\r\n",
        "\r\n",
        "先前运行的代码中的 run 变量是 Run 对象的实例，它是对 Azure 机器学习中试验的单个运行的引用********。可以使用此引用来获取有关运行及其输出的信息："
      ]
    },
    {
      "cell_type": "code",
      "execution_count": null,
      "metadata": {},
      "outputs": [],
      "source": [
        "import json\n",
        "\n",
        "# 获取记录的指标\r\n",
        "print(\"Metrics:\")\n",
        "metrics = run.get_metrics()\n",
        "for metric_name in metrics:\n",
        "    print(metric_name, \":\", metrics[metric_name])\n",
        "\n",
        "# 获取输出文件\r\n",
        "print(\"\\nFiles:\")\n",
        "files = run.get_file_names()\n",
        "for file in files:\n",
        "    print(file)"
      ]
    },
    {
      "cell_type": "markdown",
      "metadata": {},
      "source": [
        "可以使用 download_file 方法单独下载试验生成的文件，也可以使用 download_files 方法检索多个文件********。以下代码下载运行的 output 文件夹中的所有文件****："
      ]
    },
    {
      "cell_type": "code",
      "execution_count": null,
      "metadata": {},
      "outputs": [],
      "source": [
        "import os\n",
        "\n",
        "download_folder = 'downloaded-files'\n",
        "\n",
        "# 将文件下载到“outputs”文件夹\r\n",
        "run.download_files(prefix='outputs', output_directory=download_folder)\n",
        "\n",
        "# 验证是否已下载文件\r\n",
        "for root, directories, filenames in os.walk(download_folder): \n",
        "    for filename in filenames:  \n",
        "        print (os.path.join(root,filename))"
      ]
    },
    {
      "cell_type": "markdown",
      "metadata": {},
      "source": [
        "如果需要对试验运行进行故障排除，则可以使用 get_details 方法检索有关运行的基本详细信息，也可以使用 get_details_with_logs 方法检索运行详细信息以及运行期间生成的日志文件的内容********："
      ]
    },
    {
      "cell_type": "code",
      "execution_count": null,
      "metadata": {},
      "outputs": [],
      "source": [
        "run.get_details_with_logs()"
      ]
    },
    {
      "cell_type": "markdown",
      "metadata": {},
      "source": [
        "请注意，详细信息包括与运行试验的计算目标有关的信息，有其开始以及结束的日期和时间。此外，因为包含试验代码的笔记本（此笔记本）在克隆的 Git 存储库中，所以存储库、分支以及状态的相关详细信息都记录在运行历史记录中。\r\n",
        "\r\n",
        "在本例中，请注意，详细信息中的 logFiles 条目指示未生成任何日志文件****。这对于内联试验（例如你所运行的内联试验）十分典型，但当你以试验方式运行脚本时，会变得更加有趣，接下来我们将介绍这一内容。"
      ]
    },
    {
      "cell_type": "markdown",
      "metadata": {},
      "source": [
        "## 运行试验脚本\r\n",
        "\r\n",
        "上一示例中，你在此笔记本中内联运行了一个试验。更为灵活的解决方案如下：为试验创建单独的脚本，将其与其所需的其他所有文件一同存储在一个文件夹中，然后使用 Azure ML 基于文件夹中的脚本运行试验。\r\n",
        "\r\n",
        "首先，为试验文件创建文件夹，然后将数据复制到其中："
      ]
    },
    {
      "cell_type": "code",
      "execution_count": null,
      "metadata": {},
      "outputs": [],
      "source": [
        "import os, shutil\n",
        "\n",
        "# 为试验文件创建文件夹\r\n",
        "folder_name = 'diabetes-experiment-files'\n",
        "experiment_folder = './' + folder_name\n",
        "os.makedirs(folder_name, exist_ok=True)\n",
        "\n",
        "# 将数据文件复制到试验文件夹\r\n",
        "shutil.copy('data/diabetes.csv', os.path.join(folder_name, \"diabetes.csv\"))"
      ]
    },
    {
      "cell_type": "markdown",
      "metadata": {},
      "source": [
        "接下来，创建包含试验代码的 Python 脚本，然后将其保存到试验文件夹。\r\n",
        "\r\n",
        "> 备注****：运行以下单元格只创建脚本文件，不运行文件**！"
      ]
    },
    {
      "cell_type": "code",
      "execution_count": null,
      "metadata": {},
      "outputs": [],
      "source": [
        "%%writefile $folder_name/diabetes_experiment.py\n",
        "from azureml.core import Run\n",
        "import pandas as pd\n",
        "import os\n",
        "\n",
        "# 获取试验运行上下文\r\n",
        "run = Run.get_context()\n",
        "\n",
        "# 加载糖尿病数据集\r\n",
        "data = pd.read_csv('diabetes.csv')\n",
        "\n",
        "# 计算行数并记录结果\r\n",
        "row_count = (len(data))\n",
        "run.log('observations', row_count)\n",
        "print('Analyzing {} rows of data'.format(row_count))\n",
        "\n",
        "# 计算并记录标签计数\r\n",
        "diabetic_counts = data['Diabetic'].value_counts()\n",
        "print(diabetic_counts)\n",
        "for k, v in diabetic_counts.items():\n",
        "    run.log('Label:' + str(k), v)\n",
        "      \n",
        "# 将数据样本保存到 outputs 文件夹（该文件夹将自动上传）\r\n",
        "os.makedirs('outputs', exist_ok=True)\n",
        "data.sample(100).to_csv(\"outputs/sample.csv\", index=False, header=True)\n",
        "\n",
        "# 完成运行\r\n",
        "run.complete()"
      ]
    },
    {
      "cell_type": "markdown",
      "metadata": {},
      "source": [
        "此代码是之前使用的内联代码的简化版本。但请注意以下内容：\r\n",
        "- 运行脚本时，它使用 `Run.get_context()` 方法检索试验运行上下文。\r\n",
        "- 它从脚本所在文件夹加载糖尿病数据。\r\n",
        "- 它创建名为 outputs 的文件夹，并将示例文件写入其中 - 该文件夹会自动上传到试验运行****"
      ]
    },
    {
      "cell_type": "markdown",
      "metadata": {},
      "source": [
        "现在基本可以运行试验。要运行脚本，必须创建一个“ScriptRunConfig”****命令以标识要在试验中运行的 Python 脚本文件，然后基于该脚本运行试验。\r\n",
        "\r\n",
        "> 备注****：ScriptRunConfig 还可以确定计算目标和 Python 环境。在本例中，Python 环境被定义为包括一些 Conda 和 pip 包，但省略了计算目标，因此将使用默认的本地计算。\r\n",
        "\r\n",
        "以下单元格配置并提交基于脚本的试验。"
      ]
    },
    {
      "cell_type": "code",
      "execution_count": null,
      "metadata": {},
      "outputs": [],
      "source": [
        "from azureml.core import Experiment, ScriptRunConfig, Environment\n",
        "from azureml.core.conda_dependencies import CondaDependencies\n",
        "from azureml.widgets import RunDetails\n",
        "\n",
        "# 创建用于试验的 Python 环境\r\n",
        "env = Environment(\"experiment_env\")\n",
        "\n",
        "# 确保已安装所需的包（我们需要 pip 和 Azure ML 默认值）\r\n",
        "packages = CondaDependencies.create(conda_packages=['pip'],\n",
        "                                    pip_packages=['azureml-defaults'])\n",
        "env.python.conda_dependencies = packages\n",
        "\n",
        "# 创建脚本配置\r\n",
        "script_config = ScriptRunConfig(source_directory=experiment_folder,\n",
        "                                script='diabetes_experiment.py',\n",
        "                                environment=env) \n",
        "\n",
        "# 提交试验\r\n",
        "experiment = Experiment(workspace=ws, name='mslearn-diabetes')\n",
        "run = experiment.submit(config=script_config)\n",
        "RunDetails(run).show()\n",
        "run.wait_for_completion()"
      ]
    },
    {
      "cell_type": "markdown",
      "metadata": {},
      "source": [
        "和以前一样，可以使用小组件或指向 [Azure 机器学习工作室](https://ml.azure.com)中的试验的链接来查看试验生成的输出，还可以编写代码来检索其生成的指标和文件："
      ]
    },
    {
      "cell_type": "code",
      "execution_count": null,
      "metadata": {},
      "outputs": [],
      "source": [
        "# 获取记录的指标\r\n",
        "metrics = run.get_metrics()\n",
        "for key in metrics.keys():\n",
        "        print(key, metrics.get(key))\n",
        "print('\\n')\n",
        "for file in run.get_file_names():\n",
        "    print(file)"
      ]
    },
    {
      "cell_type": "markdown",
      "metadata": {},
      "source": [
        "请注意，这次，运行生成了一些日志文件。可以在窗口小组件中查看这些内容，也可以照常使用 get_details_with_logs 方法，只不过这次输出将包含日志数据****。"
      ]
    },
    {
      "cell_type": "code",
      "execution_count": null,
      "metadata": {},
      "outputs": [],
      "source": [
        "run.get_details_with_logs()"
      ]
    },
    {
      "cell_type": "markdown",
      "metadata": {},
      "source": [
        "虽然可以在上面的输出中查看日志详细信息，但通常更容易下载日志文件并在文本编辑器中查看它们。"
      ]
    },
    {
      "cell_type": "code",
      "execution_count": null,
      "metadata": {},
      "outputs": [],
      "source": [
        "import os\n",
        "\n",
        "log_folder = 'downloaded-logs'\n",
        "\n",
        "# 下载所有文件\r\n",
        "run.get_all_logs(destination=log_folder)\n",
        "\n",
        "# 验证是否已下载文件\r\n",
        "for root, directories, filenames in os.walk(log_folder): \n",
        "    for filename in filenames:  \n",
        "        print (os.path.join(root,filename))"
      ]
    },
    {
      "cell_type": "markdown",
      "metadata": {},
      "source": [
        "## 查看试验运行历史记录\r\n",
        "\r\n",
        "多次运行同一试验后，可以在 [Azure 机器学习工作室](https://ml.azure.com)中查看历史记录并浏览所记录的每个运行。或者，可以从工作区按名称检索试验，然后使用 SDK 遍历其运行："
      ]
    },
    {
      "cell_type": "code",
      "execution_count": null,
      "metadata": {},
      "outputs": [],
      "source": [
        "from azureml.core import Experiment, Run\n",
        "\n",
        "diabetes_experiment = ws.experiments['mslearn-diabetes']\n",
        "for logged_run in diabetes_experiment.get_runs():\n",
        "    print('Run ID:', logged_run.id)\n",
        "    metrics = logged_run.get_metrics()\n",
        "    for key in metrics.keys():\n",
        "        print('-', key, metrics.get(key))"
      ]
    },
    {
      "cell_type": "markdown",
      "metadata": {},
      "source": [
        "## 使用 MLflow\r\n",
        "\r\n",
        "MLflow 是用于管理机器学习进程的开放源代码平台。在 Databricks 环境中通常（但不是唯一）使用它来协调试验和跟踪指标。在 Azure 机器学习试验中，你可以使用 MLflow 来跟踪指标，以作为原生日志功能的替代方法。\r\n",
        "\r\n",
        "要利用此功能，你将需要 mlflow 和 azureml-mlflow 包，所以我们要确认是否已安装这些包********。"
      ]
    },
    {
      "cell_type": "code",
      "execution_count": null,
      "metadata": {},
      "outputs": [],
      "source": [
        "!pip show mlflow azureml-mlflow"
      ]
    },
    {
      "cell_type": "markdown",
      "metadata": {},
      "source": [
        "### 将 MLflow 与内联试验一起使用\r\n",
        "\r\n",
        "要使用 MLflow 跟踪内联试验的指标，必须将 MLflow 的“跟踪 URI”**设置到运行试验的工作区。这使你可以使用“mlflow”****跟踪方法将数据记录到试验运行中。"
      ]
    },
    {
      "cell_type": "code",
      "execution_count": null,
      "metadata": {},
      "outputs": [],
      "source": [
        "from azureml.core import Experiment\n",
        "import pandas as pd\n",
        "import mlflow\n",
        "\n",
        "# 将 MLflow 跟踪 URI 设置到工作区\r\n",
        "mlflow.set_tracking_uri(ws.get_mlflow_tracking_uri())\n",
        "\n",
        "# 在工作区中创建 Azure ML 试验\r\n",
        "experiment = Experiment(workspace=ws, name='mslearn-diabetes-mlflow')\n",
        "mlflow.set_experiment(experiment.name)\n",
        "\n",
        "# 开始 MLflow 试验\r\n",
        "with mlflow.start_run():\n",
        "    \n",
        "    print(\"Starting experiment:\", experiment.name)\n",
        "    \n",
        "    # Load data\n",
        "    data = pd.read_csv('data/diabetes.csv')\n",
        "\n",
        "    # Count the rows and log the result\n",
        "    row_count = (len(data))\n",
        "    mlflow.log_metric('observations', row_count)\n",
        "    print(\"Run complete\")"
      ]
    },
    {
      "cell_type": "markdown",
      "metadata": {},
      "source": [
        "现在，让我们看看运行期间记录的指标"
      ]
    },
    {
      "cell_type": "code",
      "execution_count": null,
      "metadata": {},
      "outputs": [],
      "source": [
        "# 获取试验的最新运行\r\n",
        "run = list(experiment.get_runs())[0]\n",
        "\n",
        "# 获取记录的指标\r\n",
        "print(\"\\nMetrics:\")\n",
        "metrics = run.get_metrics()\n",
        "for key in metrics.keys():\n",
        "        print(key, metrics.get(key))\n",
        "    \n",
        "# 获取指向 Azure ML 工作室中试验的链接   \r\n",
        "experiment_url = experiment.get_portal_url()\n",
        "print('See details at', experiment_url)"
      ]
    },
    {
      "cell_type": "markdown",
      "metadata": {},
      "source": [
        "运行上面的代码后，可以使用显示的链接在 Azure 机器学习工作室中查看试验。然后选择该试验的最新运行并查看其“指标”****选项卡以查看记录的指标。\r\n",
        "\r\n",
        "### 在试验脚本中使用 MLflow\r\n",
        "\r\n",
        "你还可以使用 MLflow 跟踪试验脚本中的指标。\r\n",
        "\r\n",
        "运行以下两个单元格，为使用 MLflow 的试验创建文件夹和脚本。"
      ]
    },
    {
      "cell_type": "code",
      "execution_count": null,
      "metadata": {},
      "outputs": [],
      "source": [
        "import os, shutil\n",
        "\n",
        "# 为试验文件创建文件夹\r\n",
        "folder_name = 'mlflow-experiment-files'\n",
        "experiment_folder = './' + folder_name\n",
        "os.makedirs(folder_name, exist_ok=True)\n",
        "\n",
        "# 将数据文件复制到试验文件夹\r\n",
        "shutil.copy('data/diabetes.csv', os.path.join(folder_name, \"diabetes.csv\"))"
      ]
    },
    {
      "cell_type": "code",
      "execution_count": null,
      "metadata": {},
      "outputs": [],
      "source": [
        "%%writefile $folder_name/mlflow_diabetes.py\n",
        "from azureml.core import Run\n",
        "import pandas as pd\n",
        "import mlflow\n",
        "\n",
        "\n",
        "# 开始 MLflow 试验\r\n",
        "with mlflow.start_run():\n",
        "       \n",
        "    # Load data\n",
        "    data = pd.read_csv('diabetes.csv')\n",
        "\n",
        "    # Count the rows and log the result\n",
        "    row_count = (len(data))\n",
        "    print('observations:', row_count)\n",
        "    mlflow.log_metric('observations', row_count)"
      ]
    },
    {
      "cell_type": "markdown",
      "metadata": {},
      "source": [
        "在 Azure ML 试验脚本中使用 MLflow 跟踪时，开始试验运行时将自动设置 MLflow 跟踪 URI。但是，要在其中运行脚本的环境必须包括所需的“mlflow”****包。"
      ]
    },
    {
      "cell_type": "code",
      "execution_count": null,
      "metadata": {
        "scrolled": false
      },
      "outputs": [],
      "source": [
        "from azureml.core import Experiment, ScriptRunConfig, Environment\n",
        "from azureml.core.conda_dependencies import CondaDependencies\n",
        "from azureml.widgets import RunDetails\n",
        "\n",
        "\n",
        "# 创建用于试验的 Python 环境\r\n",
        "mlflow_env = Environment(\"mlflow-env\")\n",
        "\n",
        "# 确保安装了所需的包\r\n",
        "packages = CondaDependencies.create(conda_packages=['pandas','pip'],\n",
        "                                    pip_packages=['mlflow','azureml-mlflow'])\n",
        "mlflow_env.python.conda_dependencies = packages\n",
        "\n",
        "# 创建脚本配置\r\n",
        "script_mlflow = ScriptRunConfig(source_directory=experiment_folder,\n",
        "                                script='mlflow_diabetes.py',\n",
        "                                environment=mlflow_env) \n",
        "\n",
        "# 提交试验\r\n",
        "experiment = Experiment(workspace=ws, name='mslearn-diabetes-mlflow')\n",
        "run = experiment.submit(config=script_mlflow)\n",
        "RunDetails(run).show()\n",
        "run.wait_for_completion()"
      ]
    },
    {
      "cell_type": "markdown",
      "metadata": {},
      "source": [
        "与往常一样，你可以在试验运行完成时从中获取记录的指标。"
      ]
    },
    {
      "cell_type": "code",
      "execution_count": null,
      "metadata": {},
      "outputs": [],
      "source": [
        "# 获取记录的指标\r\n",
        "metrics = run.get_metrics()\n",
        "for key in metrics.keys():\n",
        "        print(key, metrics.get(key))"
      ]
    },
    {
      "cell_type": "markdown",
      "metadata": {},
      "source": [
        "> 详细信息****：若要了解有关运行试验的详细信息，请参阅 Azure ML 文档中的[本主题](https://docs.microsoft.com/azure/machine-learning/how-to-manage-runs)。有关如何在运行期间记录指标的详细信息，请参阅[本主题](https://docs.microsoft.com/azure/machine-learning/how-to-track-experiments)。有关将 Azure ML 试验与 MLflow 集成的更多信息，请参见[本话题](https://docs.microsoft.com/en-us/azure/machine-learning/how-to-use-mlflow)。"
      ]
    }
  ],
  "metadata": {
    "kernelspec": {
      "display_name": "Python 3.6 - AzureML",
      "language": "python",
      "name": "python3-azureml"
    },
    "language_info": {
      "codemirror_mode": {
        "name": "ipython",
        "version": 3
      },
      "file_extension": ".py",
      "mimetype": "text/x-python",
      "name": "python",
      "nbconvert_exporter": "python",
      "pygments_lexer": "ipython3",
      "version": "3.6.9"
    }
  },
  "nbformat": 4,
  "nbformat_minor": 2
}